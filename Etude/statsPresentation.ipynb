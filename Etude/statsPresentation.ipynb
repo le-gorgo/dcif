{
 "cells": [
  {
   "cell_type": "code",
   "execution_count": 1,
   "metadata": {
    "collapsed": true
   },
   "outputs": [],
   "source": [
    "#Analysis "
   ]
  },
  {
   "cell_type": "markdown",
   "metadata": {
    "slideshow": {
     "slide_type": "-"
    }
   },
   "source": [
    "## Data loading"
   ]
  },
  {
   "cell_type": "code",
   "execution_count": 2,
   "metadata": {
    "collapsed": true
   },
   "outputs": [],
   "source": [
    "import pandas as pd\n",
    "import numpy as np\n",
    "import csv\n",
    "import matplotlib.pylab as plt\n",
    "import os"
   ]
  },
  {
   "cell_type": "code",
   "execution_count": 3,
   "metadata": {
    "collapsed": true
   },
   "outputs": [],
   "source": [
    "def readMulti():\n",
    "    frames=[]\n",
    "    for filename in os.listdir(path) :\n",
    "        if not multiProblems in filename:\n",
    "            continue\n",
    "        dfMult=pd.read_csv(path+filename, header=0)  \n",
    "        frames.append(dfMult)\n",
    "    return pd.concat(frames)    \n",
    "\n",
    "path = '/home/magma/BIO_mono_multi_debrief/stats/'\n",
    "path_part = '/home/magma/BIO_mono_multi_debrief/'\n",
    "\n",
    "generatedProblems = 'generated_MONO_problems.csv'\n",
    "finishingProblems = 'finishing_MONO_problems.csv'\n",
    "failedProblems = 'failed_MONO_problems.csv'\n",
    "multiProblems = 'running_stats_MULTI_problems' \n",
    "  \n",
    "dfGen =pd.read_csv(path+generatedProblems, header=0)       \n",
    "dfFin =pd.read_csv(path+finishingProblems, header=0)       \n",
    "dfFail=pd.read_csv(path+failedProblems, header=0)  \n",
    "dfFin_part = pd.read_csv(path_part+finishingProblems, header=0)\n",
    "\n",
    "dfMulti = readMulti()"
   ]
  },
  {
   "cell_type": "markdown",
   "metadata": {},
   "source": [
    "##Data preparation"
   ]
  },
  {
   "cell_type": "code",
   "execution_count": 4,
   "metadata": {
    "collapsed": false
   },
   "outputs": [
    {
     "name": "stdout",
     "output_type": "stream",
     "text": [
      "Index([u'max CPU time by SOLAR', u'or_csq', u'min consequences sent', u'nbAg+',\n",
      "       u'root-extensions', u'or_numagent', u'min CPU time by SOLAR',\n",
      "       u'distrib', u'min total size messages', u'inferences', u'or_method',\n",
      "       u'min extensions', u'max inferences', u'nbConsequencesFound',\n",
      "       u'root-CPU time by SOLAR', u'nb Messages', u'root-total size messages',\n",
      "       u'max total size messages', u'max nb Messages', u'CPU time by SOLAR',\n",
      "       u'max extensions', u'or_dist', u'max clauses sents',\n",
      "       u'consequences sent', u'method', u'root-clauses sents',\n",
      "       u'nbCl_c1_non_subsumed;nbCl_c1;nbCl_c2;nbCl_c2_non_sub;nbTimesCl_subs_min;nbTimesCl_subs_non_min;nbCl_c1_subsumed_non_min;nbCl_c1_subsumed_min;nbCl_c2_sub_min;nbCl_c2_sub_non_min;nbCl_c1_tot_present',\n",
      "       u'or_csq_mono', u'min nb Messages', u'root-consequences sent', u'var',\n",
      "       u'root-nb Messages', u'min clauses sents', u'root-inferences',\n",
      "       u'total time', u'infile_path', u'root', u'clauses sents',\n",
      "       u'max consequences sent', u'timed_out', u'min inferences', u'infile',\n",
      "       u'extensions', u'problem', u'total size messages', u'numagent', u'csq',\n",
      "       u'dist'],\n",
      "      dtype='object')\n"
     ]
    }
   ],
   "source": [
    "def removeOrderForTokenMeth(df):\n",
    "    df.loc[df['method'].str.contains(\"Token\"),'method']= 'DICF-PB-Token'\n",
    "def renameParamsOr(df):\n",
    "    df['method'] = df['or_method']\n",
    "    df['numagent'] = df['or_numagent']\n",
    "    df['csq'] = df['or_csq']\n",
    "    df['dist'] = df['or_dist']\n",
    "    print df.columns\n",
    "def replace_meth(x):\n",
    "    method=x['method']\n",
    "    if 'DICF-PB-Async' in method or 'DICF-PB-Star' in method :\n",
    "        return method\n",
    "    elif 'Token' in method :\n",
    "        return 'DICF-PB-Token'\n",
    "    else :\n",
    "        return method\n",
    "    \n",
    "def splitParams(df):\n",
    "    #create new filed and assign previous agg value and then apply replacw fun on it\n",
    "    df['method']=df.apply(replace_meth, axis=1)\n",
    "    \n",
    "renameParamsOr(dfMulti)\n",
    "removeOrderForTokenMeth(dfMulti)\n",
    "splitParams(dfMulti)\n",
    "\n"
   ]
  },
  {
   "cell_type": "markdown",
   "metadata": {},
   "source": [
    "##Basic Stats"
   ]
  },
  {
   "cell_type": "code",
   "execution_count": 5,
   "metadata": {
    "collapsed": false
   },
   "outputs": [],
   "source": [
    "def printInfoOnDf(df):\n",
    "    print df.describe()\n",
    "    print 'number of rows',len(df.index)\n",
    "    print 'number of column',len(df.columns.values)\n",
    "    print df.columns.values\n",
    "#print dfFin\n",
    "#print dfMulti"
   ]
  },
  {
   "cell_type": "markdown",
   "metadata": {
    "collapsed": true
   },
   "source": []
  },
  {
   "cell_type": "code",
   "execution_count": 6,
   "metadata": {
    "collapsed": false
   },
   "outputs": [],
   "source": [
    "\n",
    "def proportionTimeOut(df,discreteVar):\n",
    "    by_var = df.groupby([discreteVar,'timed_out']) #groups the data act on groups\n",
    "       #seperately\n",
    "    table = by_var.size() #gets group size counts, hashed by the two variables\n",
    "    table = table.unstack() #splits the data into 2 columns, 0, 1, each indexed by the\n",
    "    #other variable\n",
    "    normedtable = table.div(table.sum(1), axis=0) #divides the counts by the totals\n",
    "    return normedtable\n",
    "def computeProp(df):\n",
    "    discreteVarList = ['or_numagent','method']#for now no refinement\n",
    "    fig1, axes1 = plt.subplots(3,1) #creates a 3x1 blank plot\n",
    "    for i in range(len(discreteVarList)): #now we fill in the subplots\n",
    "        var = discreteVarList[i]\n",
    "        table = proportionTimeOut(df,var)\n",
    "        table.plot(kind='barh', stacked=True, ax=axes1[i])\n",
    "    #fig1.show() #displays the plot, might not need this if running in 'interactive' mode\n",
    "computeProp(dfMulti)"
   ]
  },
  {
   "cell_type": "code",
   "execution_count": null,
   "metadata": {
    "collapsed": true
   },
   "outputs": [],
   "source": [
    "sgsgsgseg"
   ]
  },
  {
   "cell_type": "code",
   "execution_count": null,
   "metadata": {
    "collapsed": true
   },
   "outputs": [],
   "source": []
  },
  {
   "cell_type": "code",
   "execution_count": null,
   "metadata": {
    "collapsed": true
   },
   "outputs": [],
   "source": []
  },
  {
   "cell_type": "code",
   "execution_count": null,
   "metadata": {
    "collapsed": true
   },
   "outputs": [],
   "source": []
  }
 ],
 "metadata": {
  "kernelspec": {
   "display_name": "Python 2",
   "language": "python",
   "name": "python2"
  },
  "language_info": {
   "codemirror_mode": {
    "name": "ipython",
    "version": 2
   },
   "file_extension": ".py",
   "mimetype": "text/x-python",
   "name": "python",
   "nbconvert_exporter": "python",
   "pygments_lexer": "ipython2",
   "version": "2.7.10"
  }
 },
 "nbformat": 4,
 "nbformat_minor": 0
}
